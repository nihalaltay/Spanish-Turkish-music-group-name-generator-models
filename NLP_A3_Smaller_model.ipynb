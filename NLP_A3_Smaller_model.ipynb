{
  "nbformat": 4,
  "nbformat_minor": 0,
  "metadata": {
    "colab": {
      "provenance": [],
      "include_colab_link": true
    },
    "kernelspec": {
      "name": "python3",
      "display_name": "Python 3"
    },
    "language_info": {
      "name": "python"
    }
  },
  "cells": [
    {
      "cell_type": "markdown",
      "metadata": {
        "id": "view-in-github",
        "colab_type": "text"
      },
      "source": [
        "<a href=\"https://colab.research.google.com/github/nihalaltay/Spanish-Turkish-music-group-name-generator-models/blob/main/NLP_A3_Smaller_model.ipynb\" target=\"_parent\"><img src=\"https://colab.research.google.com/assets/colab-badge.svg\" alt=\"Open In Colab\"/></a>"
      ]
    },
    {
      "cell_type": "code",
      "execution_count": null,
      "metadata": {
        "id": "vowXRstocd8F"
      },
      "outputs": [],
      "source": [
        "import pandas as pd\n",
        "import torch\n",
        "import torch.nn.functional as F\n",
        "import matplotlib.pyplot as plt # for making figures\n",
        "%matplotlib inline"
      ]
    },
    {
      "cell_type": "code",
      "source": [
        "#---*-**-*--- Spanish Band Name Generator Model ---*-**-*---#\n",
        "\n",
        "# Form the dataset: Get Spanish band names\n",
        "\n",
        "# Direct download link\n",
        "download_url = 'https://drive.google.com/uc?export=download&id=1e_i08fhp4xMWSfDxlFuPAaakouwDTQyT'\n",
        "\n",
        "# Load the CSV file (dfs: dataframe spanish)\n",
        "dfs = pd.read_csv(download_url, header=None)\n",
        "\n",
        "# Preview the first few rows\n",
        "print(dfs.head())"
      ],
      "metadata": {
        "colab": {
          "base_uri": "https://localhost:8080/"
        },
        "id": "3IX5t_E1y0CO",
        "outputId": "24bd042c-268a-4905-e3ea-52348468d93f"
      },
      "execution_count": null,
      "outputs": [
        {
          "output_type": "stream",
          "name": "stdout",
          "text": [
            "                  0\n",
            "0      21 Japonesas\n",
            "1           A Bordo\n",
            "2  A las 10 en casa\n",
            "3      Trío Acuario\n",
            "4          Aguaviva\n"
          ]
        }
      ]
    },
    {
      "cell_type": "code",
      "source": [
        "# Process the dataset. Make it into a list. Removing dots too, because they conflict with dots within the band names, hindering the training.\n",
        "es_bands = dfs[0].dropna().str.lower().str.replace('.', '', regex=False).tolist()\n",
        "\n",
        "# Preview the first few elements\n",
        "print(es_bands[:10])"
      ],
      "metadata": {
        "colab": {
          "base_uri": "https://localhost:8080/"
        },
        "id": "uH2MGP4FcidR",
        "outputId": "f549205c-1c8a-451d-dad3-be925b7f9949"
      },
      "execution_count": null,
      "outputs": [
        {
          "output_type": "stream",
          "name": "stdout",
          "text": [
            "['21 japonesas', 'a bordo', 'a las 10 en casa', 'trío acuario', 'aguaviva', 'alaska y los pegamoides', 'álex & christina', 'alive', 'amatria', 'amelie']\n"
          ]
        }
      ]
    },
    {
      "cell_type": "code",
      "source": [
        "len(es_bands)"
      ],
      "metadata": {
        "colab": {
          "base_uri": "https://localhost:8080/"
        },
        "id": "FbakoEqAcvnF",
        "outputId": "200e2b99-03a9-42e7-c137-378099ce974d"
      },
      "execution_count": null,
      "outputs": [
        {
          "output_type": "execute_result",
          "data": {
            "text/plain": [
              "305"
            ]
          },
          "metadata": {},
          "execution_count": 4
        }
      ]
    },
    {
      "cell_type": "code",
      "source": [
        "# Build the vocabulary of characters and mappings to/from integers\n",
        "chars = sorted(list(set(''.join(es_bands))))\n",
        "stoi = {s:i+1 for i,s in enumerate(chars)}\n",
        "stoi['.'] = 0\n",
        "itos = {i:s for s,i in stoi.items()}\n",
        "print(itos)"
      ],
      "metadata": {
        "colab": {
          "base_uri": "https://localhost:8080/"
        },
        "id": "EYnXhmWVcx-l",
        "outputId": "1d4b6cd0-52d7-471e-c188-06018fcb0b95"
      },
      "execution_count": null,
      "outputs": [
        {
          "output_type": "stream",
          "name": "stdout",
          "text": [
            "{1: ' ', 2: '!', 3: '&', 4: \"'\", 5: ',', 6: '-', 7: '0', 8: '1', 9: '2', 10: '3', 11: '4', 12: '5', 13: '7', 14: '8', 15: '9', 16: 'a', 17: 'b', 18: 'c', 19: 'd', 20: 'e', 21: 'f', 22: 'g', 23: 'h', 24: 'i', 25: 'j', 26: 'k', 27: 'l', 28: 'm', 29: 'n', 30: 'o', 31: 'p', 32: 'q', 33: 'r', 34: 's', 35: 't', 36: 'u', 37: 'v', 38: 'w', 39: 'x', 40: 'y', 41: 'z', 42: 'à', 43: 'á', 44: 'ä', 45: 'é', 46: 'í', 47: 'ñ', 48: 'ó', 49: 'ú', 0: '.'}\n"
          ]
        }
      ]
    },
    {
      "cell_type": "code",
      "source": [
        "# Build the new dataset\n",
        "block_size = 3 # context length: how many characters do we take to predict the next one.\n",
        "\n",
        "def build_dataset(es_bands):\n",
        "  X, Y = [], []\n",
        "  for w in es_bands:\n",
        "\n",
        "    #print(w)\n",
        "    context = [0] * block_size\n",
        "    for ch in w + '.':\n",
        "      ix = stoi[ch]\n",
        "      X.append(context)\n",
        "      Y.append(ix)\n",
        "      #print(''.join(itos[i] for i in context), '--->', itos[ix])\n",
        "      context = context[1:] + [ix] # crop and append\n",
        "\n",
        "  X = torch.tensor(X)\n",
        "  Y = torch.tensor(Y)\n",
        "  print(X.shape, Y.shape)\n",
        "  return X, Y\n",
        "\n",
        "import random\n",
        "random.seed(42)\n",
        "random.shuffle(es_bands)\n",
        "n1 = int(0.8*len(es_bands))\n",
        "n2 = int(0.9*len(es_bands))\n",
        "\n",
        "Xtr, Ytr = build_dataset(es_bands[:n1])\n",
        "Xdev, Ydev = build_dataset(es_bands[n1:n2])\n",
        "Xte, Yte = build_dataset(es_bands[n2:])"
      ],
      "metadata": {
        "colab": {
          "base_uri": "https://localhost:8080/"
        },
        "id": "MB5XgJxdczFi",
        "outputId": "95cf32fa-3460-4f2c-d886-d305396108d1"
      },
      "execution_count": null,
      "outputs": [
        {
          "output_type": "stream",
          "name": "stdout",
          "text": [
            "torch.Size([3055, 3]) torch.Size([3055])\n",
            "torch.Size([347, 3]) torch.Size([347])\n",
            "torch.Size([382, 3]) torch.Size([382])\n"
          ]
        }
      ]
    },
    {
      "cell_type": "code",
      "source": [
        "g = torch.Generator().manual_seed(2147483647) # for reproducibility\n",
        "C = torch.randn((50, 5), generator=g)\n",
        "W1 = torch.randn((15, 50), generator=g)\n",
        "b1 = torch.randn(50, generator=g)\n",
        "W2 = torch.randn((50, 50), generator=g)\n",
        "b2 = torch.randn(50, generator=g)\n",
        "parameters = [C, W1, b1, W2, b2]"
      ],
      "metadata": {
        "id": "EAA0_oigc13X"
      },
      "execution_count": null,
      "outputs": []
    },
    {
      "cell_type": "code",
      "source": [
        "sum(p.nelement() for p in parameters) # number of parameters in total"
      ],
      "metadata": {
        "colab": {
          "base_uri": "https://localhost:8080/"
        },
        "id": "_HcVef6-c5S4",
        "outputId": "50df3fd7-0bca-4e8f-9961-0cb8643b0473"
      },
      "execution_count": null,
      "outputs": [
        {
          "output_type": "execute_result",
          "data": {
            "text/plain": [
              "3600"
            ]
          },
          "metadata": {},
          "execution_count": 8
        }
      ]
    },
    {
      "cell_type": "code",
      "source": [
        "for p in parameters:\n",
        "  p.requires_grad = True"
      ],
      "metadata": {
        "id": "coNBea1sc6tm"
      },
      "execution_count": null,
      "outputs": []
    },
    {
      "cell_type": "code",
      "source": [
        "lre = torch.linspace(-3, 0, 1000)\n",
        "lrs = 10**lre"
      ],
      "metadata": {
        "id": "nFWpAj_9c9Yr"
      },
      "execution_count": null,
      "outputs": []
    },
    {
      "cell_type": "code",
      "source": [
        "lri = []\n",
        "lossi = []\n",
        "stepi = []"
      ],
      "metadata": {
        "id": "t2huuyTudBlF"
      },
      "execution_count": null,
      "outputs": []
    },
    {
      "cell_type": "code",
      "source": [
        "#Model Training\n",
        "\n",
        "num_iterations = 30000\n",
        "batch_size = 32\n",
        "\n",
        "for i in range(num_iterations):\n",
        "\n",
        "  # minibatch construct\n",
        "  ix = torch.randint(0, Xtr.shape[0], (batch_size,))\n",
        "\n",
        "  # forward pass\n",
        "  emb = C[Xtr[ix]] # (batch_size, 3, 10)\n",
        "  h = torch.tanh(emb.view(-1, 15) @ W1 + b1)\n",
        "  logits = h @ W2 + b2 # (batch_size, 27)\n",
        "  loss = F.cross_entropy(logits, Ytr[ix])\n",
        "\n",
        "  # backward pass\n",
        "  for p in parameters:\n",
        "    p.grad = None\n",
        "  loss.backward()\n",
        "\n",
        "  # learning rate schedule\n",
        "  if i < 5000:\n",
        "    lr = 0.005\n",
        "  elif i < 10000:\n",
        "    lr = 0.001\n",
        "  else:\n",
        "    lr = 0.0001\n",
        "\n",
        "  # parameter update\n",
        "  for p in parameters:\n",
        "    p.data += -lr * p.grad\n",
        "\n",
        "  # track stats\n",
        "  stepi.append(i)\n",
        "  lossi.append(loss.log10().item())\n",
        "\n",
        "  if i % 5000 == 0:  # Print progress every 5000 steps\n",
        "    print(f\"Iteration {i}, Loss: {loss.item():.4f}\")"
      ],
      "metadata": {
        "id": "m_fkBmXn4oEy",
        "colab": {
          "base_uri": "https://localhost:8080/"
        },
        "outputId": "58b4754e-40e0-4a80-d547-ebfc8072b95e"
      },
      "execution_count": null,
      "outputs": [
        {
          "output_type": "stream",
          "name": "stdout",
          "text": [
            "Iteration 0, Loss: 15.9440\n",
            "Iteration 5000, Loss: 4.2640\n",
            "Iteration 10000, Loss: 3.5119\n",
            "Iteration 15000, Loss: 2.9629\n",
            "Iteration 20000, Loss: 3.8278\n",
            "Iteration 25000, Loss: 3.5201\n"
          ]
        }
      ]
    },
    {
      "cell_type": "code",
      "source": [
        "plt.plot(stepi, lossi)"
      ],
      "metadata": {
        "colab": {
          "base_uri": "https://localhost:8080/",
          "height": 447
        },
        "id": "ZBAYXZ_rdGIG",
        "outputId": "1b8c6f06-1d0f-4930-c450-902ee5cd524c"
      },
      "execution_count": null,
      "outputs": [
        {
          "output_type": "execute_result",
          "data": {
            "text/plain": [
              "[<matplotlib.lines.Line2D at 0x7a85b3a163d0>]"
            ]
          },
          "metadata": {},
          "execution_count": 13
        },
        {
          "output_type": "display_data",
          "data": {
            "text/plain": [
              "<Figure size 640x480 with 1 Axes>"
            ],
            "image/png": "[encoded data removed]"
          },
          "metadata": {}
        }
      ]
    },
    {
      "cell_type": "code",
      "source": [
        "# training loss\n",
        "emb = C[Xtr] # (32, 3, 2)\n",
        "h = torch.tanh(emb.view(-1, 15) @ W1 + b1)\n",
        "logits = h @ W2 + b2 # (32, 27)\n",
        "loss = F.cross_entropy(logits, Ytr)\n",
        "loss"
      ],
      "metadata": {
        "colab": {
          "base_uri": "https://localhost:8080/"
        },
        "id": "ZlhYinNgdIVF",
        "outputId": "72b00f13-82be-4658-9bd0-fa3a3a883c20"
      },
      "execution_count": null,
      "outputs": [
        {
          "output_type": "execute_result",
          "data": {
            "text/plain": [
              "tensor(3.6995, grad_fn=<NllLossBackward0>)"
            ]
          },
          "metadata": {},
          "execution_count": 14
        }
      ]
    },
    {
      "cell_type": "code",
      "source": [
        "# validation loss\n",
        "emb = C[Xdev] # (32, 3, 2)\n",
        "h = torch.tanh(emb.view(-1, 15) @ W1 + b1)\n",
        "logits = h @ W2 + b2 # (32, 27)\n",
        "loss = F.cross_entropy(logits, Ydev)\n",
        "loss"
      ],
      "metadata": {
        "colab": {
          "base_uri": "https://localhost:8080/"
        },
        "id": "cJH3DDu4dLTM",
        "outputId": "9875afc3-27f7-4175-e69d-26b6d6aa874b"
      },
      "execution_count": null,
      "outputs": [
        {
          "output_type": "execute_result",
          "data": {
            "text/plain": [
              "tensor(4.1675, grad_fn=<NllLossBackward0>)"
            ]
          },
          "metadata": {},
          "execution_count": 15
        }
      ]
    },
    {
      "cell_type": "code",
      "source": [
        "# test loss\n",
        "emb = C[Xte] # (32, 3, 2)\n",
        "h = torch.tanh(emb.view(-1, 15) @ W1 + b1)\n",
        "logits = h @ W2 + b2 # (32, 27)\n",
        "loss = F.cross_entropy(logits, Yte)\n",
        "loss"
      ],
      "metadata": {
        "colab": {
          "base_uri": "https://localhost:8080/"
        },
        "id": "DwOgCg1vdNhe",
        "outputId": "e17111f6-9819-4604-84c7-e48fa52eec79"
      },
      "execution_count": null,
      "outputs": [
        {
          "output_type": "execute_result",
          "data": {
            "text/plain": [
              "tensor(4.3124, grad_fn=<NllLossBackward0>)"
            ]
          },
          "metadata": {},
          "execution_count": 16
        }
      ]
    },
    {
      "cell_type": "code",
      "source": [
        "# visualize dimensions 0 and 1 of the embedding matrix C for all characters\n",
        "plt.figure(figsize=(8,8))\n",
        "plt.scatter(C[:,0].data, C[:,1].data, s=200)\n",
        "for i in range(C.shape[0]):\n",
        "    plt.text(C[i,0].item(), C[i,1].item(), itos[i], ha=\"center\", va=\"center\", color='white')\n",
        "plt.grid('minor')"
      ],
      "metadata": {
        "colab": {
          "base_uri": "https://localhost:8080/",
          "height": 676
        },
        "id": "CCWLYP9GdPP4",
        "outputId": "456ca037-a1b6-4016-def0-fd6bcc7b7359"
      },
      "execution_count": null,
      "outputs": [
        {
          "output_type": "display_data",
          "data": {
            "text/plain": [
              "<Figure size 800x800 with 1 Axes>"
            ],
            "image/png": "[encoded data removed]"
          },
          "metadata": {}
        }
      ]
    },
    {
      "cell_type": "code",
      "source": [
        "# sample from the model\n",
        "g = torch.Generator().manual_seed(2147483647 + 10)\n",
        "\n",
        "for _ in range(20):\n",
        "\n",
        "    out = []\n",
        "    context = [0] * block_size # initialize with all ...\n",
        "    while True:\n",
        "      emb = C[torch.tensor([context])] # (1,block_size,d)\n",
        "      h = torch.tanh(emb.view(1, -1) @ W1 + b1)\n",
        "      logits = h @ W2 + b2\n",
        "      probs = F.softmax(logits, dim=1)\n",
        "      ix = torch.multinomial(probs, num_samples=1, generator=g).item()\n",
        "      context = context[1:] + [ix]\n",
        "      out.append(ix)\n",
        "      if ix == 0:\n",
        "        break\n",
        "\n",
        "    print(''.join(itos[i] for i in out))"
      ],
      "metadata": {
        "colab": {
          "base_uri": "https://localhost:8080/"
        },
        "id": "TQUMmgRrdRIA",
        "outputId": "37f145ea-069c-4e15-f3e4-208efe4f1634"
      },
      "execution_count": null,
      "outputs": [
        {
          "output_type": "stream",
          "name": "stdout",
          "text": [
            "lefney.\n",
            "i massel kmono pasenjadey qzol1r.\n",
            "los ilmaiso.\n",
            "ravaa.\n",
            "cresantbe.\n",
            "i cglñífoeú.\n",
            "elaan.\n",
            "dortic0jnierrñllakr.\n",
            "hecmqpié0ññuazf8,a5&,5dmazsir.\n",
            "los.\n",
            "cuge odesnnli1miiralis.\n",
            "dfhpi!s.\n",
            "la í  reg.\n",
            "elag.\n",
            "el9oúean.\n",
            "austbe.\n",
            "luiagaàa lpoclues nrl1fmenmel y 9pm,,r.\n",
            "rihri!nyivestil9ezmbhvises q enestqnen2gow k7o3mu,al 7oaúines r1snlpkzob.\n",
            "i0jnasener.\n",
            "los sra.\n"
          ]
        }
      ]
    },
    {
      "cell_type": "code",
      "source": [
        "#---*-**-*--- Turkish Band Name Generator Model ---*-**-*---#\n",
        "\n",
        "# Form the dataset: Get Turkish band names\n",
        "\n",
        "# Direct download link\n",
        "download_url = 'https://drive.google.com/uc?export=download&id=1lNyu8CGxheZtdQgSad7LzDo7o9OX9lPQ'\n",
        "\n",
        "# Load the CSV file (dft: dataframe turkish)\n",
        "dft = pd.read_csv(download_url, header=None)\n",
        "\n",
        "# Preview the first few rows\n",
        "print(dft.head())"
      ],
      "metadata": {
        "id": "iwENKZS7dT_5",
        "colab": {
          "base_uri": "https://localhost:8080/"
        },
        "outputId": "4e44c30d-0afe-402a-ff6d-efe15f54d559"
      },
      "execution_count": null,
      "outputs": [
        {
          "output_type": "stream",
          "name": "stdout",
          "text": [
            "               0\n",
            "0            657\n",
            "1     80 Kalibre\n",
            "2     100 Derece\n",
            "3            110\n",
            "4  Altıncı Cadde\n"
          ]
        }
      ]
    },
    {
      "cell_type": "code",
      "source": [
        "# Process the dataset. Make it into a list. Removing dots too, because they conflict with dots within the band names, hindering the training.\n",
        "tr_bands = dft[0].dropna().str.lower().str.replace('.', '', regex=False).tolist()\n",
        "\n",
        "# Preview the first few elements\n",
        "print(tr_bands[:10])"
      ],
      "metadata": {
        "colab": {
          "base_uri": "https://localhost:8080/"
        },
        "id": "iW8NsLO5osoA",
        "outputId": "9c7e27ef-6c6a-4c91-d7fc-8e57fcfabe31"
      },
      "execution_count": null,
      "outputs": [
        {
          "output_type": "stream",
          "name": "stdout",
          "text": [
            "['657', '80 kalibre', '100 derece', '110', 'altıncı cadde', 'acil servis', 'aduuket', 'adamlar', 'akbaba', 'almora']\n"
          ]
        }
      ]
    },
    {
      "cell_type": "code",
      "source": [
        "len(tr_bands)"
      ],
      "metadata": {
        "colab": {
          "base_uri": "https://localhost:8080/"
        },
        "id": "gl_YLM4cotqm",
        "outputId": "d4a3ca28-31b0-469b-c095-d78d16333a06"
      },
      "execution_count": null,
      "outputs": [
        {
          "output_type": "execute_result",
          "data": {
            "text/plain": [
              "268"
            ]
          },
          "metadata": {},
          "execution_count": 21
        }
      ]
    },
    {
      "cell_type": "code",
      "source": [
        "# Build the vocabulary of characters and mappings to/from integers\n",
        "chars = sorted(list(set(''.join(tr_bands))))\n",
        "stoi = {s:i+1 for i,s in enumerate(chars)}\n",
        "stoi['.'] = 0\n",
        "itos = {i:s for s,i in stoi.items()}\n",
        "print(itos)"
      ],
      "metadata": {
        "colab": {
          "base_uri": "https://localhost:8080/"
        },
        "outputId": "284f990d-5cc2-408d-8d5c-aa5c9859c653",
        "id": "OWm3Ernpxe6D"
      },
      "execution_count": null,
      "outputs": [
        {
          "output_type": "stream",
          "name": "stdout",
          "text": [
            "{1: ' ', 2: '&', 3: '-', 4: '0', 5: '1', 6: '2', 7: '3', 8: '5', 9: '6', 10: '7', 11: '8', 12: 'a', 13: 'b', 14: 'c', 15: 'd', 16: 'e', 17: 'f', 18: 'g', 19: 'h', 20: 'i', 21: 'j', 22: 'k', 23: 'l', 24: 'm', 25: 'n', 26: 'o', 27: 'p', 28: 'r', 29: 's', 30: 't', 31: 'u', 32: 'v', 33: 'x', 34: 'y', 35: 'z', 36: 'ç', 37: 'ö', 38: 'ü', 39: 'ğ', 40: 'ı', 41: 'ş', 42: '̇', 0: '.'}\n"
          ]
        }
      ]
    },
    {
      "cell_type": "code",
      "source": [
        "# Build the new dataset\n",
        "block_size = 3 # context length: how many characters do we take to predict the next one.\n",
        "\n",
        "def build_dataset(tr_bands):\n",
        "  X, Y = [], []\n",
        "  for w in tr_bands:\n",
        "\n",
        "    #print(w)\n",
        "    context = [0] * block_size\n",
        "    for ch in w + '.':\n",
        "      ix = stoi[ch]\n",
        "      X.append(context)\n",
        "      Y.append(ix)\n",
        "      #print(''.join(itos[i] for i in context), '--->', itos[ix])\n",
        "      context = context[1:] + [ix] # crop and append\n",
        "\n",
        "  X = torch.tensor(X)\n",
        "  Y = torch.tensor(Y)\n",
        "  print(X.shape, Y.shape)\n",
        "  return X, Y\n",
        "\n",
        "import random\n",
        "random.seed(42)\n",
        "random.shuffle(tr_bands)\n",
        "n1 = int(0.8*len(tr_bands))\n",
        "n2 = int(0.9*len(tr_bands))\n",
        "\n",
        "Xtr, Ytr = build_dataset(tr_bands[:n1])\n",
        "Xdev, Ydev = build_dataset(tr_bands[n1:n2])\n",
        "Xte, Yte = build_dataset(tr_bands[n2:])"
      ],
      "metadata": {
        "colab": {
          "base_uri": "https://localhost:8080/"
        },
        "outputId": "23490843-d69f-4188-b63a-244e554171bb",
        "id": "EIXySDG8ywRH"
      },
      "execution_count": null,
      "outputs": [
        {
          "output_type": "stream",
          "name": "stdout",
          "text": [
            "torch.Size([2215, 3]) torch.Size([2215])\n",
            "torch.Size([295, 3]) torch.Size([295])\n",
            "torch.Size([259, 3]) torch.Size([259])\n"
          ]
        }
      ]
    },
    {
      "cell_type": "code",
      "source": [
        "g = torch.Generator().manual_seed(2147483647) # for reproducibility\n",
        "C = torch.randn((43, 5), generator=g)\n",
        "W1 = torch.randn((15, 50), generator=g)\n",
        "b1 = torch.randn(50, generator=g)\n",
        "W2 = torch.randn((50, 43), generator=g)\n",
        "b2 = torch.randn(43, generator=g)\n",
        "parameters = [C, W1, b1, W2, b2]"
      ],
      "metadata": {
        "id": "Rn2NMbTfzA-v"
      },
      "execution_count": null,
      "outputs": []
    },
    {
      "cell_type": "code",
      "source": [
        "sum(p.nelement() for p in parameters) # number of parameters in total"
      ],
      "metadata": {
        "colab": {
          "base_uri": "https://localhost:8080/"
        },
        "id": "AwSwFb_YzP0i",
        "outputId": "6543b9c9-d20a-4b15-c5b0-6b9b4507c124"
      },
      "execution_count": null,
      "outputs": [
        {
          "output_type": "execute_result",
          "data": {
            "text/plain": [
              "3208"
            ]
          },
          "metadata": {},
          "execution_count": 25
        }
      ]
    },
    {
      "cell_type": "code",
      "source": [
        "for p in parameters:\n",
        "  p.requires_grad = True"
      ],
      "metadata": {
        "id": "NoTlMX8yzWbv"
      },
      "execution_count": null,
      "outputs": []
    },
    {
      "cell_type": "code",
      "source": [
        "lre = torch.linspace(-3, 0, 1000)\n",
        "lrs = 10**lre"
      ],
      "metadata": {
        "id": "8Df0pnIAzdGG"
      },
      "execution_count": null,
      "outputs": []
    },
    {
      "cell_type": "code",
      "source": [
        "lri = []\n",
        "lossi = []\n",
        "stepi = []"
      ],
      "metadata": {
        "id": "VjNR-uIdzgo9"
      },
      "execution_count": null,
      "outputs": []
    },
    {
      "cell_type": "code",
      "source": [
        "#Model Training\n",
        "\n",
        "num_iterations = 30000\n",
        "batch_size = 32\n",
        "\n",
        "for i in range(num_iterations):\n",
        "\n",
        "  # minibatch construct\n",
        "  ix = torch.randint(0, Xtr.shape[0], (batch_size,))\n",
        "\n",
        "  # forward pass\n",
        "  emb = C[Xtr[ix]] # (batch_size, 3, 10)\n",
        "  h = torch.tanh(emb.view(-1, 15) @ W1 + b1)\n",
        "  logits = h @ W2 + b2 # (batch_size, 27)\n",
        "  loss = F.cross_entropy(logits, Ytr[ix])\n",
        "\n",
        "  # backward pass\n",
        "  for p in parameters:\n",
        "    p.grad = None\n",
        "  loss.backward()\n",
        "\n",
        "  # learning rate schedule\n",
        "  if i < 5000:\n",
        "    lr = 0.005\n",
        "  elif i < 10000:\n",
        "    lr = 0.001\n",
        "  else:\n",
        "    lr = 0.0001\n",
        "\n",
        "  # parameter update\n",
        "  for p in parameters:\n",
        "    p.data += -lr * p.grad\n",
        "\n",
        "  # track stats\n",
        "  stepi.append(i)\n",
        "  lossi.append(loss.log10().item())\n",
        "\n",
        "  if i % 5000 == 0:  # Print progress every 5000 steps\n",
        "    print(f\"Iteration {i}, Loss: {loss.item():.4f}\")"
      ],
      "metadata": {
        "id": "Zvq1gpH44vz9",
        "colab": {
          "base_uri": "https://localhost:8080/"
        },
        "outputId": "f00bf2a3-2bfb-4e20-cf2e-2745d611126d"
      },
      "execution_count": null,
      "outputs": [
        {
          "output_type": "stream",
          "name": "stdout",
          "text": [
            "Iteration 0, Loss: 17.1246\n",
            "Iteration 5000, Loss: 4.3711\n",
            "Iteration 10000, Loss: 4.0156\n",
            "Iteration 15000, Loss: 3.9661\n",
            "Iteration 20000, Loss: 3.8484\n",
            "Iteration 25000, Loss: 4.7220\n"
          ]
        }
      ]
    },
    {
      "cell_type": "code",
      "source": [
        "plt.plot(stepi, lossi)"
      ],
      "metadata": {
        "colab": {
          "base_uri": "https://localhost:8080/",
          "height": 447
        },
        "id": "YgvihYb0z2qN",
        "outputId": "e88bebc7-358b-406b-c4f1-9631b473e350"
      },
      "execution_count": null,
      "outputs": [
        {
          "output_type": "execute_result",
          "data": {
            "text/plain": [
              "[<matplotlib.lines.Line2D at 0x7a85b1284190>]"
            ]
          },
          "metadata": {},
          "execution_count": 30
        },
        {
          "output_type": "display_data",
          "data": {
            "text/plain": [
              "<Figure size 640x480 with 1 Axes>"
            ],
            "image/png": "[encoded data removed]"
          },
          "metadata": {}
        }
      ]
    },
    {
      "cell_type": "code",
      "source": [
        "# training loss\n",
        "emb = C[Xtr] # (32, 3, 2)\n",
        "h = torch.tanh(emb.view(-1, 15) @ W1 + b1)\n",
        "logits = h @ W2 + b2 # (32, 27)\n",
        "loss = F.cross_entropy(logits, Ytr)\n",
        "loss"
      ],
      "metadata": {
        "colab": {
          "base_uri": "https://localhost:8080/"
        },
        "id": "MD-E8SzJz5xt",
        "outputId": "6e3a9b5a-f9a7-433b-d9d0-fdef9cce1a39"
      },
      "execution_count": null,
      "outputs": [
        {
          "output_type": "execute_result",
          "data": {
            "text/plain": [
              "tensor(3.7788, grad_fn=<NllLossBackward0>)"
            ]
          },
          "metadata": {},
          "execution_count": 31
        }
      ]
    },
    {
      "cell_type": "code",
      "source": [
        "# validation loss\n",
        "emb = C[Xdev] # (32, 3, 2)\n",
        "h = torch.tanh(emb.view(-1, 15) @ W1 + b1)\n",
        "logits = h @ W2 + b2 # (32, 27)\n",
        "loss = F.cross_entropy(logits, Ydev)\n",
        "loss"
      ],
      "metadata": {
        "colab": {
          "base_uri": "https://localhost:8080/"
        },
        "id": "_0oF5q_5z8g1",
        "outputId": "fb1f632c-44a3-4c0f-8306-4cf49c19ad12"
      },
      "execution_count": null,
      "outputs": [
        {
          "output_type": "execute_result",
          "data": {
            "text/plain": [
              "tensor(4.4279, grad_fn=<NllLossBackward0>)"
            ]
          },
          "metadata": {},
          "execution_count": 32
        }
      ]
    },
    {
      "cell_type": "code",
      "source": [
        "# test loss\n",
        "emb = C[Xte] # (32, 3, 2)\n",
        "h = torch.tanh(emb.view(-1, 15) @ W1 + b1)\n",
        "logits = h @ W2 + b2 # (32, 27)\n",
        "loss = F.cross_entropy(logits, Yte)\n",
        "loss"
      ],
      "metadata": {
        "colab": {
          "base_uri": "https://localhost:8080/"
        },
        "id": "QPanrWy1z-hC",
        "outputId": "9219f67c-53b1-42a9-c486-403615930667"
      },
      "execution_count": null,
      "outputs": [
        {
          "output_type": "execute_result",
          "data": {
            "text/plain": [
              "tensor(4.6089, grad_fn=<NllLossBackward0>)"
            ]
          },
          "metadata": {},
          "execution_count": 33
        }
      ]
    },
    {
      "cell_type": "code",
      "source": [
        "# visualize dimensions 0 and 1 of the embedding matrix C for all characters\n",
        "plt.figure(figsize=(8,8))\n",
        "plt.scatter(C[:,0].data, C[:,1].data, s=200)\n",
        "for i in range(min(C.shape[0], len(itos))):\n",
        "    plt.text(C[i, 0].item(), C[i, 1].item(), itos[i], ha=\"center\", va=\"center\", color='white')\n",
        "plt.grid('minor')"
      ],
      "metadata": {
        "colab": {
          "base_uri": "https://localhost:8080/",
          "height": 676
        },
        "id": "g8cCnADuz_Ar",
        "outputId": "9ca1a109-78ad-4784-d309-188479389909"
      },
      "execution_count": null,
      "outputs": [
        {
          "output_type": "display_data",
          "data": {
            "text/plain": [
              "<Figure size 800x800 with 1 Axes>"
            ],
            "image/png": "[encoded data removed]"
          },
          "metadata": {}
        }
      ]
    },
    {
      "cell_type": "code",
      "source": [
        "# sample from the model\n",
        "g = torch.Generator().manual_seed(2147483647 + 10)\n",
        "\n",
        "for _ in range(20):\n",
        "\n",
        "    out = []\n",
        "    context = [0] * block_size # initialize with all ...\n",
        "    while True:\n",
        "      emb = C[torch.tensor([context])] # (1,block_size,d)\n",
        "      h = torch.tanh(emb.view(1, -1) @ W1 + b1)\n",
        "      logits = h @ W2 + b2\n",
        "      probs = F.softmax(logits, dim=1)\n",
        "      ix = torch.multinomial(probs, num_samples=1, generator=g).item()\n",
        "      context = context[1:] + [ix]\n",
        "      out.append(ix)\n",
        "      if ix == 0:\n",
        "        break\n",
        "\n",
        "    print(''.join(itos[i] for i in out))"
      ],
      "metadata": {
        "colab": {
          "base_uri": "https://localhost:8080/"
        },
        "id": "K5XrAtfH0Jfz",
        "outputId": "e88506bb-bcf1-4363-f1b7-e3a3275998ca"
      },
      "execution_count": null,
      "outputs": [
        {
          "output_type": "stream",
          "name": "stdout",
          "text": [
            "bi̇ı akn ootiekl k.\n",
            "an aolihkemateö.\n",
            "apypsponnorgauaaıkadeelj .\n",
            "eemd tle gi.\n",
            "enki.\n",
            "oan eoc.\n",
            "hosuedçık3.\n",
            "tppykncaglihxkueameldrr.\n",
            "uosuşuöin3.\n",
            "yap.\n",
            "bay.\n",
            "aod.\n",
            "rkd tğ  .\n",
            "5v eıklnaodnmsyu7raeustlsdkai.\n",
            "llkvidstledgemizmzaöüueıklemi.\n",
            "vv8kdanll.\n",
            "ıtgkdaalu.\n",
            "fdur.\n",
            "akeuelgaa ısyitze ki.\n",
            "ez.\n"
          ]
        }
      ]
    }
  ]
}